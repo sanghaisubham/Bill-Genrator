{
 "cells": [
  {
   "cell_type": "code",
   "execution_count": 134,
   "metadata": {
    "collapsed": true
   },
   "outputs": [],
   "source": [
    "import pandas as pd\n",
    "xls=pd.ExcelFile('Paavan Dairy-automated-invoice.xlsx')\n",
    "client_details=pd.read_excel(xls,'Clients')\n",
    "product_details=pd.read_excel(xls,'Products')\n",
    "Bill=pd.read_excel(xls,'Sheet1')"
   ]
  },
  {
   "cell_type": "code",
   "execution_count": 135,
   "metadata": {
    "collapsed": true
   },
   "outputs": [],
   "source": [
    "final_bill={}\n",
    "flag=0\n",
    "for index,row in Bill.iterrows():\n",
    "    client_id=row['Client Number']\n",
    "    if client_id=='nan':\n",
    "        break\n",
    "    product_id=row['Product']\n",
    "    quantity=row['Quantity']\n",
    "    name=(str(client_details.loc[client_details['Client nr']==row['Client Number'],'Name'])[1:]).strip()\n",
    "    name=(name.split('\\n'))[0]\n",
    "    street=(str(client_details.loc[client_details['Client nr']==row['Client Number'],'Street'])[1:]).strip()\n",
    "    street=(street.split('\\n'))[0]\n",
    "    city=(str(client_details.loc[client_details['Client nr']==row['Client Number'],'City'])[1:]).strip()\n",
    "    city=(city.split('\\n'))[0]\n",
    "    Phone_Number=(str(client_details.loc[client_details['Client nr']==row['Client Number'],'Phone Num'])[1:]).strip()\n",
    "    Phone_Number=(Phone_Number.split('\\n'))[0]\n",
    "    Product=(str(product_details.loc[product_details['Product nr']==row['Product'],'Description'])[1:]).strip()\n",
    "    Product=(Product.split('\\n'))[0]\n",
    "    Price=(str(product_details.loc[product_details['Product nr']==row['Product'],'Price'])[1:]).strip()\n",
    "    Price=(Price.split('\\n'))[0]\n",
    "    if row['Client Number'] not in final_bill.keys():\n",
    "        prod={}\n",
    "        prod[0]=({'product_id':product_id,'Product':Product,'Price':Price,'Quantity':quantity})\n",
    "        final_bill[row['Client Number']]={'Client_Number':row['Client Number'],'Client_Name':name,'Street':street,'City':city,'Phone_Number':Phone_Number,'prod':prod}\n",
    "    else:\n",
    "        prod={}\n",
    "        prod=final_bill[row['Client Number']]['prod']\n",
    "        product_number=prod.keys()\n",
    "        count=len(product_number)\n",
    "        for j in range(count):\n",
    "            if prod[j]['product_id']==product_id:\n",
    "                final_bill[row['Client Number']]['prod'][j]['Quantity']+=quantity\n",
    "                flag=1\n",
    "                break\n",
    "        #print(name+str(\"\")+str(flag))\n",
    "        if flag==1:\n",
    "            flag=0\n",
    "        else:\n",
    "            prod[count]=({'product_id':product_id,'Product':Product,'Price':Price,'Quantity':quantity})\n",
    "            final_bill[row['Client Number']]={'Client_Number':row['Client Number'],'Client_Name':name,'Street':street,'City':city,'Phone_Number':Phone_Number,'prod':prod}\n",
    "        "
   ]
  },
  {
   "cell_type": "code",
   "execution_count": 136,
   "metadata": {
    "collapsed": true
   },
   "outputs": [],
   "source": [
    "df=(pd.DataFrame(final_bill))"
   ]
  },
  {
   "cell_type": "code",
   "execution_count": 137,
   "metadata": {
    "collapsed": true
   },
   "outputs": [],
   "source": [
    "df=df.transpose()"
   ]
  },
  {
   "cell_type": "code",
   "execution_count": 138,
   "metadata": {
    "collapsed": true
   },
   "outputs": [],
   "source": [
    "for index,j in df.iterrows():\n",
    "    j['prod']=(pd.DataFrame(j['prod']))"
   ]
  },
  {
   "cell_type": "code",
   "execution_count": 139,
   "metadata": {},
   "outputs": [
    {
     "data": {
      "text/html": [
       "<div>\n",
       "<style>\n",
       "    .dataframe thead tr:only-child th {\n",
       "        text-align: right;\n",
       "    }\n",
       "\n",
       "    .dataframe thead th {\n",
       "        text-align: left;\n",
       "    }\n",
       "\n",
       "    .dataframe tbody tr th {\n",
       "        vertical-align: top;\n",
       "    }\n",
       "</style>\n",
       "<table border=\"1\" class=\"dataframe\">\n",
       "  <thead>\n",
       "    <tr style=\"text-align: right;\">\n",
       "      <th></th>\n",
       "      <th>City</th>\n",
       "      <th>Client_Name</th>\n",
       "      <th>Client_Number</th>\n",
       "      <th>Phone_Number</th>\n",
       "      <th>Street</th>\n",
       "      <th>prod</th>\n",
       "    </tr>\n",
       "  </thead>\n",
       "  <tbody>\n",
       "    <tr>\n",
       "      <th>501</th>\n",
       "      <td>Asansol</td>\n",
       "      <td>Pratik Bansal</td>\n",
       "      <td>501</td>\n",
       "      <td>9647616532</td>\n",
       "      <td>Bansal Bhawan, G.T. Road, Kumarpur</td>\n",
       "      <td>0     1     2\n",
       "Price          ...</td>\n",
       "    </tr>\n",
       "    <tr>\n",
       "      <th>502</th>\n",
       "      <td>Asansol</td>\n",
       "      <td>Simarjit Gandhi</td>\n",
       "      <td>502</td>\n",
       "      <td>9570109807</td>\n",
       "      <td>Lucas Estate, Durgamandir</td>\n",
       "      <td>0       1\n",
       "Price         20     ...</td>\n",
       "    </tr>\n",
       "    <tr>\n",
       "      <th>503</th>\n",
       "      <td>Asansol</td>\n",
       "      <td>G B Gupta</td>\n",
       "      <td>503</td>\n",
       "      <td>9999999999</td>\n",
       "      <td>Sreepally</td>\n",
       "      <td>0\n",
       "Price         38\n",
       "Product     ...</td>\n",
       "    </tr>\n",
       "  </tbody>\n",
       "</table>\n",
       "</div>"
      ],
      "text/plain": [
       "        City      Client_Name Client_Number Phone_Number  \\\n",
       "501  Asansol    Pratik Bansal           501   9647616532   \n",
       "502  Asansol  Simarjit Gandhi           502   9570109807   \n",
       "503  Asansol        G B Gupta           503   9999999999   \n",
       "\n",
       "                                 Street  \\\n",
       "501  Bansal Bhawan, G.T. Road, Kumarpur   \n",
       "502           Lucas Estate, Durgamandir   \n",
       "503                           Sreepally   \n",
       "\n",
       "                                                  prod  \n",
       "501                   0     1     2\n",
       "Price          ...  \n",
       "502                 0       1\n",
       "Price         20     ...  \n",
       "503                 0\n",
       "Price         38\n",
       "Product     ...  "
      ]
     },
     "execution_count": 139,
     "metadata": {},
     "output_type": "execute_result"
    }
   ],
   "source": [
    "df"
   ]
  },
  {
   "cell_type": "code",
   "execution_count": 140,
   "metadata": {
    "collapsed": true
   },
   "outputs": [],
   "source": [
    "import json\n",
    "import random\n",
    "import datetime\n",
    "import pandas as pd\n",
    "from pprint import pprint\n",
    "file=open(r'rajat_bill.html','r')\n",
    "content=file.read()"
   ]
  },
  {
   "cell_type": "code",
   "execution_count": 141,
   "metadata": {
    "collapsed": true
   },
   "outputs": [],
   "source": [
    "content=content.replace('\\t',\"\")\n",
    "content = content.replace(\"\\n\",\"\")\n",
    "    "
   ]
  },
  {
   "cell_type": "code",
   "execution_count": 142,
   "metadata": {},
   "outputs": [],
   "source": [
    "for val,row in df.iterrows():\n",
    "    client_id=row['Client_Number']\n",
    "    cid=str(row['Client_Number'])\n",
    "    city=str(row['City'])\n",
    "    name=str(row['Client_Name'])\n",
    "    Phone=str(row['Phone_Number'])\n",
    "    street=str(row['Street'])\n",
    "    prototype=\"\"\n",
    "    to =\"to :\"\n",
    "    findto=content.find(to)\n",
    "    prototype+=content[0:findto+len(to)]+\" \"+\"<br><b>\"+name+\"<br>\"+street+\"<br>\"+city+\"<br>\"+Phone+\"</b><br>\"\n",
    "    date = \"Date :\"\n",
    "    finddate=content.find(date)\n",
    "    now = datetime.datetime.now()\n",
    "    prototype+=content[findto+len(to):finddate+len(date)]+\" \"+str(now.date())\n",
    "\n",
    "    month =\"Month :\"\n",
    "    findmonth=content.find(month)\n",
    "    prototype+=content[finddate+len(date):findmonth+len(month)]+\" \"+str(now.strftime(\"%B\"))\n",
    "\n",
    "    invoicenr = \"Invoice nr :\"\n",
    "    findinvoicenr = content.find(invoicenr)\n",
    "    prototype+=content[findmonth+len(month):findinvoicenr+len(invoicenr)]+\" \"+str(random.randint(1,100))\n",
    "\n",
    "    clientnr =\"Client nr :\"\n",
    "    findclientnr=content.find(clientnr)\n",
    "    prototype+=content[findinvoicenr+len(invoicenr):findclientnr+len(clientnr)]+\" \"+cid\n",
    "\n",
    "    tbody=\"tbody\"\n",
    "    findtbody=content.find(tbody)\n",
    "    prototype+=content[findclientnr+len(clientnr):findtbody+len(tbody)]\n",
    "\n",
    "    total_amount = 0\n",
    "    for index,i in (row['prod'].transpose()).iterrows():\n",
    "        myprice=str(i['Price'])\n",
    "        myproduct=str(i['Product'])\n",
    "        mypid=str(i['product_id'])\n",
    "        myquantity=str(i['Quantity'])\n",
    "        total = int(myquantity)*float(myprice)\n",
    "        total_amount = total_amount+int(total)\n",
    "        prototype+=\"<tr><td>\"+mypid+\"</td>\"+\"<td>\"+myproduct+\"</td>\"+\"<td>\"+myprice+\"</td>\"+\"<td>\"+myquantity+\"</td>\"+\"<td>\"+str(total)+\"</td></tr>\"\n",
    "\n",
    "    prototype+=\"</tbody></table></div>\"\n",
    "    prototype+='<br><br><h3 class=\"float-right\">Total Amount Due : &#x20B9; '+str(total_amount)+\"</div></body></html>\"\n",
    "    filename=name+\".html\"\n",
    "    file1=open(filename,'w')\n",
    "    file1.write(prototype)\n",
    "    file1.close()\n"
   ]
  }
 ],
 "metadata": {
  "kernelspec": {
   "display_name": "Python 3",
   "language": "python",
   "name": "python3"
  },
  "language_info": {
   "codemirror_mode": {
    "name": "ipython",
    "version": 3
   },
   "file_extension": ".py",
   "mimetype": "text/x-python",
   "name": "python",
   "nbconvert_exporter": "python",
   "pygments_lexer": "ipython3",
   "version": "3.6.1"
  }
 },
 "nbformat": 4,
 "nbformat_minor": 2
}
